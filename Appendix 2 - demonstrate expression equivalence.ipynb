{
 "cells": [
  {
   "cell_type": "code",
   "execution_count": null,
   "metadata": {},
   "outputs": [],
   "source": []
  },
  {
   "cell_type": "markdown",
   "metadata": {},
   "source": [
    "#### Equivalence of the two methods\n",
    "\n",
    "In the main notebook, we have derived two equivalent formulae for the PDF of $X_k$:  \n",
    "\n",
    "$$\n",
    "\\begin{align*}\n",
    "(1) \\ \\ \\ \\ f_{X_k}(x)\n",
    "&  = \\frac{1}{(b-a)^n}    \\    k \\binom{n}{k}\n",
    "      \\left(x-a         \\right)^{k-1}   \n",
    "      \\left(b-x         \\right)^{n-k}  \n",
    "\\\\ \n",
    "(2) \\ \\ \\ \\ f_{X_k}(x) \n",
    "   & = \\frac{1}{(b-a)^n} \\ \\sum_{j=k}^{n} \\ \\binom{n}{j} \\ \n",
    "         \\bigg[ (x-a)^{j-1} \\ (b-x)^{n-j-1} \\ \\big[ j(b-a) - n(x-a)  \\big] \\  \\bigg]\n",
    "\\end{align*}\n",
    "$$\n",
    "\n",
    "And two equivalent formulae for the CDF of $X_k$:  \n",
    "\n",
    "\n",
    "$$\n",
    "\\begin{align*}\n",
    "(1) \\ \\ \\ \\ F_{X_k}(x) \n",
    "   & = \\frac{(-1)^{n-k}}{(b-a)^n} \\ k  \\ \\binom{n}{k}  \\ \n",
    "         \\sum_{i=0}^{n-k} \\binom{n-k}{i} \\ (a-b)^i \\ \\left[ \\frac {(x-a)^{n-i}}{n-i} \\right]\n",
    "\\\\\n",
    "(2) \\ \\ \\ \\ F_{X_k}(x) \n",
    "   & =  \\frac{1}{(b-a)^n} \\ \\sum_{j=k}^{n} \\ \\binom{n}{j} \\ (x-a)^j \\ (b-x)^{n-j}\n",
    "\\end{align*}\n",
    "$$\n",
    "\n",
    "It is not trivial to derive one formula from the other. For example, using `sympy` to try to do so, and to test for equivalence:  "
   ]
  },
  {
   "cell_type": "code",
   "execution_count": null,
   "metadata": {},
   "outputs": [
    {
     "name": "stdout",
     "output_type": "stream",
     "text": [
      "PDF expression 1, plain and then simplified:\n"
     ]
    },
    {
     "data": {
      "text/latex": [
       "$\\displaystyle k \\left(- a + b\\right)^{- n} \\left(- a + x\\right)^{k - 1} \\left(b - x\\right)^{- k + n} {\\binom{n}{k}}$"
      ],
      "text/plain": [
       "k*(-a + x)**(k - 1)*(b - x)**(-k + n)*binomial(n, k)/(-a + b)**n"
      ]
     },
     "metadata": {},
     "output_type": "display_data"
    },
    {
     "data": {
      "text/latex": [
       "$\\displaystyle \\frac{\\left(-1\\right)^{- k} \\left(- a + x\\right)^{k - 1} \\left(a - b\\right)^{- n} \\left(- b + x\\right)^{- k + n} n!}{\\left(- k + n\\right)! \\left(k - 1\\right)!}$"
      ],
      "text/plain": [
       "(-a + x)**(k - 1)*(-b + x)**(-k + n)*factorial(n)/((-1)**k*(a - b)**n*factorial(-k + n)*factorial(k - 1))"
      ]
     },
     "metadata": {},
     "output_type": "display_data"
    },
    {
     "name": "stdout",
     "output_type": "stream",
     "text": [
      "PDF expression 2, plain and then simplified:\n"
     ]
    },
    {
     "data": {
      "text/latex": [
       "$\\displaystyle \\sum_{j=k}^{n} \\left(- a + b\\right)^{- n} \\left(- a + x\\right)^{j - 1} \\left(b - x\\right)^{- j + n - 1} \\left(j \\left(- a + b\\right) - n \\left(- a + x\\right)\\right) {\\binom{n}{j}}$"
      ],
      "text/plain": [
       "Sum((-a + x)**(j - 1)*(b - x)**(-j + n - 1)*(j*(-a + b) - n*(-a + x))*binomial(n, j)/(-a + b)**n, (j, k, n))"
      ]
     },
     "metadata": {},
     "output_type": "display_data"
    },
    {
     "data": {
      "text/latex": [
       "$\\displaystyle \\frac{\\left(- a + b\\right)^{- n} \\left(b - x\\right)^{n} \\sum_{j=k}^{n} \\left(- a + x\\right)^{j} \\left(b - x\\right)^{- j} \\left(- a j + a n + b j - n x\\right) {\\binom{n}{j}}}{- a b + a x + b x - x^{2}}$"
      ],
      "text/plain": [
       "(b - x)**n*Sum((-a + x)**j*(-a*j + a*n + b*j - n*x)*binomial(n, j)/(b - x)**j, (j, k, n))/((-a + b)**n*(-a*b + a*x + b*x - x**2))"
      ]
     },
     "metadata": {},
     "output_type": "display_data"
    },
    {
     "name": "stdout",
     "output_type": "stream",
     "text": [
      "PDF expression 2, using [a,b]=[0,1], plain and then simplified:\n"
     ]
    },
    {
     "data": {
      "text/latex": [
       "$\\displaystyle \\sum_{j=k}^{n} x^{j - 1} \\left(1 - x\\right)^{- j + n - 1} \\left(j - n x\\right) {\\binom{n}{j}}$"
      ],
      "text/plain": [
       "Sum(x**(j - 1)*(1 - x)**(-j + n - 1)*(j - n*x)*binomial(n, j), (j, k, n))"
      ]
     },
     "metadata": {},
     "output_type": "display_data"
    },
    {
     "data": {
      "text/latex": [
       "$\\displaystyle \\frac{\\left(1 - x\\right)^{n} \\sum_{j=k}^{n} x^{j} \\left(1 - x\\right)^{- j} \\left(\\frac{j}{x} - n\\right) {\\binom{n}{j}}}{1 - x}$"
      ],
      "text/plain": [
       "(1 - x)**n*Sum(x**j*(j/x - n)*binomial(n, j)/(1 - x)**j, (j, k, n))/(1 - x)"
      ]
     },
     "metadata": {},
     "output_type": "display_data"
    }
   ],
   "source": [
    "import sympy\n",
    "import IPython.display\n",
    "\n",
    "# declare all vars\n",
    "j,k,n = sympy.symbols('j k n', integer=True, nonnegative=True)\n",
    "x,a,b = sympy.symbols('x a b', complex=False)\n",
    "\n",
    "# uncomment the next two lines when arrivals are in interval [0,1] - simplifies the expressions\n",
    "# a=0\n",
    "# b=1\n",
    "\n",
    "# force x to be between a and b, by making (x-a) and (b-x) non-negative :\n",
    "x_a, b_x, b_a = sympy.symbols('x_a b_x b_a', nonnegative=True)\n",
    "x_a = x-a\n",
    "b_x = b-x\n",
    "b_a = b-a\n",
    "\n",
    "# expression 1:\n",
    "print('PDF expression 1, plain and then simplified:')\n",
    "n_choose_k = sympy.functions.combinatorial.factorials.binomial(n, k)\n",
    "expression_1 = 1/(b-a)**n * k * n_choose_k * (x-a)**(k-1)  *  (b-x)**(n-k)\n",
    "\n",
    "IPython.display.display(expression_1)\n",
    "\n",
    "IPython.display.display(expression_1.simplify())\n",
    "\n",
    "print('PDF expression 2, plain and then simplified:')\n",
    "n_choose_j = sympy.binomial(n, j)\n",
    "expression_2 = sympy.Sum( 1/(b-a)**n * (n_choose_j * ((x-a)**(j-1)  *  (b-x)**(n-j-1)   *   (j*(b-a) - n*(x-a)) )),\n",
    "               (j,k,n))\n",
    "IPython.display.display(expression_2)\n",
    "\n",
    "IPython.display.display(expression_2.simplify())\n",
    "\n",
    "print('PDF expression 2, using [a,b]=[0,1], plain and then simplified:')\n",
    "n_choose_j = sympy.binomial(n, j)\n",
    "expression_2_ab01 = sympy.Sum( (n_choose_j * ((x)**(j-1)  *  (1-x)**(n-j-1)   *   (j - n*(x)) )),\n",
    "               (j,k,n))\n",
    "IPython.display.display(expression_2_ab01)\n",
    "\n",
    "IPython.display.display(expression_2_ab01.simplify())"
   ]
  },
  {
   "cell_type": "markdown",
   "metadata": {},
   "source": [
    "So `sympy` cannot simplify the 2nd equation into the first, it can't remove the summation, even when $[a,b]=[0,1]$.   \n",
    "\n",
    "[Wolfram too is unsuccessful](https://www.wolframalpha.com/input?key=&i2d=true&i=sum+%5C%2840%29%5C%2840%29n+choose+j%5C%2841%29Power%5B%5C%2840%29x-a%5C%2841%29%2Cj-1%5DPower%5B%5C%2840%29b-x%5C%2841%29%2Cn-j-1%5D%5C%2840%29j%5C%2840%29b-a%5C%2841%29-n%5C%2840%29x-a%5C%2841%29%5C%2841%29%5C%2841%29%5C%2844%29+j%3Dk+to+n%5C%2844%29+) at removing the summation when $[a,b]$ are in the formula. However, when $[a,b]=[0,1]$, [Wolfram successfully](https://www.wolframalpha.com/input?key=&i2d=true&i=sum+%5C%2840%29Divide%5Bfactorial%5C%2840%29n%5C%2841%29%2C%5C%2840%29factorial%5C%2840%29j%5C%2841%29*factorial%5C%2840%29n-j%5C%2841%29%5C%2841%29%5DPower%5Bx%2Cj-1%5DPower%5B%5C%2840%291-x%5C%2841%29%2C%5C%2840%29n-j-1%5C%2841%29%5D%5C%2840%29j-nx%5C%2841%29%5C%2841%29%5C%2844%29+j%3Dk+to+n%5C%2844%29+) simplifies the second expression to derive the first with no summation. They don't state how they got there, the above is proof of equivalence, but it is strange that they recognise the equivalence when $[a,b]=[0,1]$ and not in the general case.  \n",
    "\n",
    "Furthermore, using `sympy` even trying to subtract the two expressions (should give 0), or divide them by each other (should give 1), don't show equivalence:"
   ]
  },
  {
   "cell_type": "code",
   "execution_count": null,
   "metadata": {},
   "outputs": [
    {
     "name": "stdout",
     "output_type": "stream",
     "text": [
      "PDF expressions subtracted from each other (should give zero):\n"
     ]
    },
    {
     "data": {
      "text/latex": [
       "$\\displaystyle k \\left(- a + b\\right)^{- n} \\left(- a + x\\right)^{k - 1} \\left(b - x\\right)^{- k + n} {\\binom{n}{k}} - \\sum_{j=k}^{n} \\left(- a + b\\right)^{- n} \\left(- a + x\\right)^{j - 1} \\left(b - x\\right)^{- j + n - 1} \\left(j \\left(- a + b\\right) - n \\left(- a + x\\right)\\right) {\\binom{n}{j}}$"
      ],
      "text/plain": [
       "k*(-a + x)**(k - 1)*(b - x)**(-k + n)*binomial(n, k)/(-a + b)**n - Sum((-a + x)**(j - 1)*(b - x)**(-j + n - 1)*(j*(-a + b) - n*(-a + x))*binomial(n, j)/(-a + b)**n, (j, k, n))"
      ]
     },
     "metadata": {},
     "output_type": "display_data"
    },
    {
     "name": "stdout",
     "output_type": "stream",
     "text": [
      "PDF expressions one divided by the other (should give one, but doesn't even realise it can cancel (-a+b)**-n - disappointing):\n"
     ]
    },
    {
     "data": {
      "text/latex": [
       "$\\displaystyle \\frac{k \\left(- a + b\\right)^{- n} \\left(- a + x\\right)^{k - 1} \\left(b - x\\right)^{- k + n} {\\binom{n}{k}}}{\\sum_{j=k}^{n} \\left(- a + b\\right)^{- n} \\left(- a + x\\right)^{j - 1} \\left(b - x\\right)^{- j + n - 1} \\left(j \\left(- a + b\\right) - n \\left(- a + x\\right)\\right) {\\binom{n}{j}}}$"
      ],
      "text/plain": [
       "k*(-a + x)**(k - 1)*(b - x)**(-k + n)*binomial(n, k)/((-a + b)**n*Sum((-a + x)**(j - 1)*(b - x)**(-j + n - 1)*(j*(-a + b) - n*(-a + x))*binomial(n, j)/(-a + b)**n, (j, k, n)))"
      ]
     },
     "metadata": {},
     "output_type": "display_data"
    },
    {
     "name": "stdout",
     "output_type": "stream",
     "text": [
      "spoon feeding - simplifying the 2nd expression before dividing, means it takes (-a+b)**-n out of the summation, and then realises it can cancel it\n",
      "but it doesn't simplify the (b-x)**(-n) * (b-x)**(-k+n) to (b-x)**(-k) ...\n"
     ]
    },
    {
     "data": {
      "text/latex": [
       "$\\displaystyle \\frac{k \\left(- a + x\\right)^{k - 1} \\left(b - x\\right)^{- n} \\left(b - x\\right)^{- k + n} \\left(- a b + a x + b x - x^{2}\\right) {\\binom{n}{k}}}{\\sum_{j=k}^{n} \\left(- a + x\\right)^{j} \\left(b - x\\right)^{- j} \\left(- a j + a n + b j - n x\\right) {\\binom{n}{j}}}$"
      ],
      "text/plain": [
       "k*(-a + x)**(k - 1)*(b - x)**(-k + n)*(-a*b + a*x + b*x - x**2)*binomial(n, k)/((b - x)**n*Sum((-a + x)**j*(-a*j + a*n + b*j - n*x)*binomial(n, j)/(b - x)**j, (j, k, n)))"
      ]
     },
     "metadata": {},
     "output_type": "display_data"
    }
   ],
   "source": [
    "print('PDF expressions subtracted from each other (should give zero):')\n",
    "IPython.display.display(expression_1 - expression_2) \n",
    "# IPython.display.display((expression_1 - expression_2).simplify())     #simplify() goes a bit crazy here\n",
    "print('PDF expressions one divided by the other (should give one, but doesn\\'t even realise it can cancel (-a+b)**-n - disappointing):')\n",
    "IPython.display.display(expression_1 / expression_2)     \n",
    "# IPython.display.display((expression_2 / expression_1).simplify())     #simplify() hadn't finished after half an hour, doubt would work\n",
    "print('spoon feeding - simplifying the 2nd expression before dividing, means it takes (-a+b)**-n out of the summation, and then realises it can cancel it'\n",
    "    + '\\nbut it doesn\\'t simplify the (b-x)**(-n) * (b-x)**(-k+n) to (b-x)**(-k) ...')\n",
    "IPython.display.display((expression_1 / expression_2.simplify()) )      \n",
    "# IPython.display.display((expression_1 / expression_2.simplify()).simplify() ) #simplify() goes a bit crazy here\n"
   ]
  },
  {
   "cell_type": "markdown",
   "metadata": {},
   "source": [
    "Trying again after setting `a=0, b=1`:"
   ]
  },
  {
   "cell_type": "code",
   "execution_count": null,
   "metadata": {},
   "outputs": [
    {
     "name": "stdout",
     "output_type": "stream",
     "text": [
      "PDF expression 1, using [a,b]=[0,1]:\n"
     ]
    },
    {
     "data": {
      "text/latex": [
       "$\\displaystyle k x^{k - 1} \\left(1 - x\\right)^{- k + n} {\\binom{n}{k}}$"
      ],
      "text/plain": [
       "k*x**(k - 1)*(1 - x)**(-k + n)*binomial(n, k)"
      ]
     },
     "metadata": {},
     "output_type": "display_data"
    },
    {
     "name": "stdout",
     "output_type": "stream",
     "text": [
      "PDF expression 2, using [a,b]=[0,1]:\n"
     ]
    },
    {
     "data": {
      "text/latex": [
       "$\\displaystyle \\sum_{j=k}^{n} x^{j - 1} \\left(1 - x\\right)^{- j + n - 1} \\left(j - n x\\right) {\\binom{n}{j}}$"
      ],
      "text/plain": [
       "Sum(x**(j - 1)*(1 - x)**(-j + n - 1)*(j - n*x)*binomial(n, j), (j, k, n))"
      ]
     },
     "metadata": {},
     "output_type": "display_data"
    },
    {
     "name": "stdout",
     "output_type": "stream",
     "text": [
      "PDF expressions subtracted from each other (should give zero):\n"
     ]
    },
    {
     "data": {
      "text/latex": [
       "$\\displaystyle k x^{k - 1} \\left(1 - x\\right)^{- k + n} {\\binom{n}{k}} - \\sum_{j=k}^{n} x^{j - 1} \\left(1 - x\\right)^{- j + n - 1} \\left(j - n x\\right) {\\binom{n}{j}}$"
      ],
      "text/plain": [
       "k*x**(k - 1)*(1 - x)**(-k + n)*binomial(n, k) - Sum(x**(j - 1)*(1 - x)**(-j + n - 1)*(j - n*x)*binomial(n, j), (j, k, n))"
      ]
     },
     "metadata": {},
     "output_type": "display_data"
    },
    {
     "name": "stdout",
     "output_type": "stream",
     "text": [
      "PDF expressions one divided by the other (should give one, but doesn't even realise it can cancel (1-x)**n - disappointing):\n"
     ]
    },
    {
     "data": {
      "text/latex": [
       "$\\displaystyle \\frac{k x^{k - 1} \\left(1 - x\\right)^{- k + n} {\\binom{n}{k}}}{\\sum_{j=k}^{n} x^{j - 1} \\left(1 - x\\right)^{- j + n - 1} \\left(j - n x\\right) {\\binom{n}{j}}}$"
      ],
      "text/plain": [
       "k*x**(k - 1)*(1 - x)**(-k + n)*binomial(n, k)/Sum(x**(j - 1)*(1 - x)**(-j + n - 1)*(j - n*x)*binomial(n, j), (j, k, n))"
      ]
     },
     "metadata": {},
     "output_type": "display_data"
    },
    {
     "name": "stdout",
     "output_type": "stream",
     "text": [
      "spoon feeding - simplifying the 2nd expression before dividing, means it takes (1-x)**n out of the summation, and then realises it can cancel it\n",
      "but it doesn't simplify the (1-x) * (1-x)**(-n) * (1-x)**(-k+n) to (1-x)**(1-k) ...\n"
     ]
    },
    {
     "data": {
      "text/latex": [
       "$\\displaystyle \\frac{k x^{k - 1} \\cdot \\left(1 - x\\right) \\left(1 - x\\right)^{- n} \\left(1 - x\\right)^{- k + n} {\\binom{n}{k}}}{\\sum_{j=k}^{n} x^{j} \\left(1 - x\\right)^{- j} \\left(\\frac{j}{x} - n\\right) {\\binom{n}{j}}}$"
      ],
      "text/plain": [
       "k*x**(k - 1)*(1 - x)*(1 - x)**(-k + n)*binomial(n, k)/((1 - x)**n*Sum(x**j*(j/x - n)*binomial(n, j)/(1 - x)**j, (j, k, n)))"
      ]
     },
     "metadata": {},
     "output_type": "display_data"
    }
   ],
   "source": [
    "\n",
    "print('PDF expression 1, using [a,b]=[0,1]:')\n",
    "expression_1_ab01 = k * n_choose_k * (x)**(k-1)  *  (1-x)**(n-k)\n",
    "IPython.display.display(expression_1_ab01 )\n",
    "\n",
    "print('PDF expression 2, using [a,b]=[0,1]:')\n",
    "IPython.display.display(expression_2_01)\n",
    "\n",
    "\n",
    "print('PDF expressions subtracted from each other (should give zero):')\n",
    "IPython.display.display(expression_1_ab01 - expression_2_ab01) \n",
    "\n",
    "# IPython.display.display((expression_1_ab01 - expression_2_ab01).simplify())     #simplify() goes a bit crazy here\n",
    "\n",
    "print('PDF expressions one divided by the other (should give one, but doesn\\'t even realise it can cancel (1-x)**n - disappointing):')\n",
    "IPython.display.display(expression_1_ab01 / expression_2_ab01)     \n",
    "# IPython.display.display((expression_2_ab01 / expression_1_ab01).simplify())     #simplify() hadn't finished after two hours, doubt would work\n",
    "\n",
    "print('spoon feeding - simplifying the 2nd expression before dividing, means it takes (1-x)**n out of the summation, and then realises it can cancel it'\n",
    "    + '\\nbut it doesn\\'t simplify the (1-x) * (1-x)**(-n) * (1-x)**(-k+n) to (1-x)**(1-k) ...')\n",
    "IPython.display.display((expression_1_ab01 / expression_2_ab01.simplify()) )      \n",
    "# IPython.display.display((expression_1_ab01 / expression_2_ab01.simplify()).simplify() ) #simplify() goes a bit crazy here\n"
   ]
  },
  {
   "cell_type": "markdown",
   "metadata": {},
   "source": [
    "So `sympy` fails to simplify the expression even when a and b are set to 0, 1; and doesn't realise the expressions are equivalent when one is subtracted from or divided by the other, again even when a and b are set to 0, 1.  \n",
    "\n"
   ]
  }
 ],
 "metadata": {
  "language_info": {
   "name": "python"
  },
  "orig_nbformat": 4
 },
 "nbformat": 4,
 "nbformat_minor": 2
}
